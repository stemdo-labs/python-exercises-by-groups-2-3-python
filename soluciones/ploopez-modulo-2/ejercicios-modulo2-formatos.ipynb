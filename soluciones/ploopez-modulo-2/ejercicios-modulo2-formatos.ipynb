{
 "cells": [
  {
   "cell_type": "code",
   "execution_count": null,
   "metadata": {},
   "outputs": [],
   "source": [
    "Formatos"
   ]
  },
  {
   "cell_type": "markdown",
   "metadata": {},
   "source": [
    "Formatear Cadenas 1"
   ]
  },
  {
   "cell_type": "code",
   "execution_count": 1,
   "metadata": {},
   "outputs": [
    {
     "name": "stdout",
     "output_type": "stream",
     "text": [
      "Estimado/a Alfonso, su númwero de asociado es: 23456\n"
     ]
    }
   ],
   "source": [
    "nombre_asociado= input(\"Introduzca su nombre: \")\n",
    "numero_asociado= input(\"Introduzca su numero de asociado: \")\n",
    "print(\"Estimado/a \" + nombre_asociado + \", su númwero de asociado es: \" + numero_asociado)"
   ]
  },
  {
   "cell_type": "markdown",
   "metadata": {},
   "source": [
    "Formatear Cadenas 2"
   ]
  },
  {
   "cell_type": "code",
   "execution_count": 1,
   "metadata": {},
   "outputs": [
    {
     "name": "stdout",
     "output_type": "stream",
     "text": [
      "Has ganado 75 puntos! En total, acumulas 100 puntos\n"
     ]
    }
   ],
   "source": [
    "puntos_nuevos = 75\n",
    "puntos_totales = 100\n",
    "\n",
    "print(f\"Has ganado {puntos_nuevos} puntos! En total, acumulas {puntos_totales} puntos\")"
   ]
  },
  {
   "cell_type": "markdown",
   "metadata": {},
   "source": [
    "Formatear cadenas 3"
   ]
  },
  {
   "cell_type": "code",
   "execution_count": 2,
   "metadata": {},
   "outputs": [
    {
     "name": "stdout",
     "output_type": "stream",
     "text": [
      "Has ganado 56 puntos! En total, acumulas 90 puntos\n"
     ]
    }
   ],
   "source": [
    "puntos_anteriores = 34\n",
    "puntos_nuevos = 56  \n",
    "puntos_totales = puntos_anteriores + puntos_nuevos\n",
    "\n",
    "print(f\"Has ganado {puntos_nuevos} puntos! En total, acumulas {puntos_totales} puntos\")"
   ]
  }
 ],
 "metadata": {
  "kernelspec": {
   "display_name": "Python 3",
   "language": "python",
   "name": "python3"
  },
  "language_info": {
   "codemirror_mode": {
    "name": "ipython",
    "version": 3
   },
   "file_extension": ".py",
   "mimetype": "text/x-python",
   "name": "python",
   "nbconvert_exporter": "python",
   "pygments_lexer": "ipython3",
   "version": "3.12.3"
  }
 },
 "nbformat": 4,
 "nbformat_minor": 2
}
