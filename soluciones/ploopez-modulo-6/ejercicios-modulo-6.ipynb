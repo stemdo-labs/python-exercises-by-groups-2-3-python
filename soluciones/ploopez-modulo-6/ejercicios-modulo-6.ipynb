{
 "cells": [
  {
   "cell_type": "code",
   "execution_count": null,
   "metadata": {},
   "outputs": [],
   "source": [
    "ATRIBUTOS 1"
   ]
  },
  {
   "cell_type": "code",
   "execution_count": null,
   "metadata": {},
   "outputs": [],
   "source": [
    "class Casa:\n",
    "    def __init__(self, color, cantidad_pisos):\n",
    "        sefl.color = color\n",
    "        self.cantidad_pisos = cantidad_pisos\n",
    "\n",
    "casa_blanca = Casa(\"blanco\", 4)"
   ]
  },
  {
   "cell_type": "markdown",
   "metadata": {},
   "source": [
    "Atributos 2"
   ]
  },
  {
   "cell_type": "code",
   "execution_count": 2,
   "metadata": {},
   "outputs": [],
   "source": [
    "class Cubo:\n",
    "    #esto es atributo de clase \n",
    "    caras = 6\n",
    "\n",
    "    def __init__(self, color):\n",
    "        #esto es atributo de instancia\n",
    "        self.color = color\n",
    "\n",
    "cubo_rojo = Cubo(\"rojo\")"
   ]
  },
  {
   "cell_type": "markdown",
   "metadata": {},
   "source": [
    "Clases 1"
   ]
  },
  {
   "cell_type": "code",
   "execution_count": null,
   "metadata": {},
   "outputs": [],
   "source": [
    "class PlataformaStreaming:\n",
    "    def __init__(self, nombre):\n",
    "        self.nombre = nombre\n",
    "\n",
    "\n",
    "\n",
    "netflix = PlataformaStreaming(\"Netflix\")\n",
    "hbo_max = PlataformaStreaming(\"HBO Max\")\n",
    "amazon_prime_video = PlataformaStreaming(\"Amazon Prime Video\")"
   ]
  },
  {
   "cell_type": "markdown",
   "metadata": {},
   "source": [
    "Herencia 1"
   ]
  },
  {
   "cell_type": "code",
   "execution_count": null,
   "metadata": {},
   "outputs": [],
   "source": [
    "class Persona:\n",
    "\n",
    "    def __init__(self, nombre, edad):\n",
    "        self.nombre = nombre\n",
    "        self.edad = edad\n",
    "\n",
    "\n",
    "class Alumno(Persona):\n",
    "    pass"
   ]
  },
  {
   "cell_type": "markdown",
   "metadata": {},
   "source": [
    "Metodos 1"
   ]
  },
  {
   "cell_type": "code",
   "execution_count": 3,
   "metadata": {},
   "outputs": [
    {
     "name": "stdout",
     "output_type": "stream",
     "text": [
      "Inhalar... Exhalar\n"
     ]
    }
   ],
   "source": [
    "class Mascota:\n",
    "\n",
    "    @staticmethod\n",
    "    def respirar():\n",
    "        print(\"Inhalar... Exhalar\")\n",
    "\n",
    "\n",
    "Mascota.respirar()"
   ]
  },
  {
   "cell_type": "markdown",
   "metadata": {},
   "source": [
    "Metodos 2"
   ]
  },
  {
   "cell_type": "code",
   "execution_count": 4,
   "metadata": {},
   "outputs": [
    {
     "name": "stdout",
     "output_type": "stream",
     "text": [
      "El jugador está vivo: False\n",
      "El jugador está vivo: True\n"
     ]
    }
   ],
   "source": [
    "class Jugador:\n",
    "    vivo = False\n",
    "\n",
    "    @classmethod\n",
    "    def revivir(cls):\n",
    "        cls.vivo = True\n",
    "    \n",
    "\n",
    "print(\"El jugador está vivo:\", Jugador.vivo)\n",
    "Jugador.revivir()\n",
    "print(\"El jugador está vivo:\", Jugador.vivo)"
   ]
  },
  {
   "cell_type": "markdown",
   "metadata": {},
   "source": [
    "Polimorfismo 1"
   ]
  },
  {
   "cell_type": "code",
   "execution_count": 5,
   "metadata": {},
   "outputs": [
    {
     "name": "stdout",
     "output_type": "stream",
     "text": [
      "Longitud: 6\n",
      "Longitud: 5\n",
      "Longitud: 5\n"
     ]
    }
   ],
   "source": [
    "palabra = \"Python\"\n",
    "lista = [1, 2, 3, 4, 5]\n",
    "tupla = (6, 7, 8, 9, 10)\n",
    "\n",
    "for objeto in (palabra, lista, tupla):\n",
    "    print(\"Longitud:\", len(objeto))"
   ]
  },
  {
   "cell_type": "markdown",
   "metadata": {},
   "source": [
    "Polimorfismo 2"
   ]
  },
  {
   "cell_type": "code",
   "execution_count": 6,
   "metadata": {},
   "outputs": [
    {
     "name": "stdout",
     "output_type": "stream",
     "text": [
      "El arquero lanza flecha\n",
      "El mago lanza hechizo\n",
      "El samurai ataca con la katana\n"
     ]
    }
   ],
   "source": [
    "class Arquero: \n",
    "    def atacar(self):\n",
    "        print(\"El arquero lanza flecha\")\n",
    "\n",
    "class Mago:\n",
    "    def atacar(self):\n",
    "        print(\"El mago lanza hechizo\")\n",
    "\n",
    "class Samurai:\n",
    "    def atacar(self):\n",
    "        print(\"El samurai ataca con la katana\")\n",
    "\n",
    "\n",
    "arquero = Arquero()\n",
    "mago = Mago()\n",
    "samurai = Samurai()\n",
    "\n",
    "personajes = [arquero, mago, samurai]\n",
    "\n",
    "for personaje in personajes:\n",
    "    personaje.atacar()"
   ]
  }
 ],
 "metadata": {
  "kernelspec": {
   "display_name": "Python 3",
   "language": "python",
   "name": "python3"
  },
  "language_info": {
   "codemirror_mode": {
    "name": "ipython",
    "version": 3
   },
   "file_extension": ".py",
   "mimetype": "text/x-python",
   "name": "python",
   "nbconvert_exporter": "python",
   "pygments_lexer": "ipython3",
   "version": "3.12.3"
  }
 },
 "nbformat": 4,
 "nbformat_minor": 2
}
