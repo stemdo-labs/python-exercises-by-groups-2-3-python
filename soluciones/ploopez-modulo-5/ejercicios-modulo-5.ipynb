{
 "cells": [
  {
   "cell_type": "code",
   "execution_count": null,
   "metadata": {},
   "outputs": [],
   "source": [
    "ARGUMENTOS"
   ]
  },
  {
   "cell_type": "markdown",
   "metadata": {},
   "source": [
    "Argumentos 1"
   ]
  },
  {
   "cell_type": "code",
   "execution_count": 1,
   "metadata": {},
   "outputs": [
    {
     "name": "stdout",
     "output_type": "stream",
     "text": [
      "14\n"
     ]
    }
   ],
   "source": [
    "def suma_cuadrados(num1, num2, num3):\n",
    "    num1 = num1*num1\n",
    "    num2 = num2*num2\n",
    "    num3 = num3 *num3\n",
    "    return num1+num2+num3\n",
    "\n",
    "print(suma_cuadrados(1,2,3))"
   ]
  },
  {
   "cell_type": "markdown",
   "metadata": {},
   "source": [
    "Argumentos 2"
   ]
  },
  {
   "cell_type": "code",
   "execution_count": 2,
   "metadata": {},
   "outputs": [
    {
     "name": "stdout",
     "output_type": "stream",
     "text": [
      "La suma de los valores absolutos es: 26\n"
     ]
    }
   ],
   "source": [
    "import math\n",
    "\n",
    "def suma_absolutos(*args):\n",
    "    suma = 0\n",
    "    for valor in args:\n",
    "        suma += abs(valor)\n",
    "    return suma\n",
    "\n",
    "print(\"La suma de los valores absolutos es:\", suma_absolutos(-5, 10, -3, 8))\n"
   ]
  },
  {
   "cell_type": "markdown",
   "metadata": {},
   "source": [
    "Argumentos 3 "
   ]
  },
  {
   "cell_type": "code",
   "execution_count": 4,
   "metadata": {},
   "outputs": [
    {
     "name": "stdout",
     "output_type": "stream",
     "text": [
      "pablo, la suma de tus números es 98\n"
     ]
    }
   ],
   "source": [
    "def numeros_persona(nombre, *args):\n",
    "    suma = 0\n",
    "    for valor in args:\n",
    "        suma += valor\n",
    "    \n",
    "    print(f\"{nombre}, la suma de tus números es {suma}\")\n",
    "\n",
    "numeros_persona(\"pablo\", 5, 10, 14, -45, 36, 78)\n",
    "\n"
   ]
  },
  {
   "cell_type": "markdown",
   "metadata": {},
   "source": [
    "FUNCIONES"
   ]
  },
  {
   "cell_type": "code",
   "execution_count": 7,
   "metadata": {},
   "outputs": [
    {
     "name": "stdout",
     "output_type": "stream",
     "text": [
      "El cuadrado de 7 es: 49\n"
     ]
    }
   ],
   "source": [
    "def cuadrado(numero):\n",
    "    resultado = numero*numero\n",
    "    return resultado\n",
    "\n",
    "numero = 7\n",
    "cuadrado(numero)\n",
    "print(\"El cuadrado de\", numero, \"es:\", cuadrado(numero))"
   ]
  }
 ],
 "metadata": {
  "kernelspec": {
   "display_name": "Python 3",
   "language": "python",
   "name": "python3"
  },
  "language_info": {
   "codemirror_mode": {
    "name": "ipython",
    "version": 3
   },
   "file_extension": ".py",
   "mimetype": "text/x-python",
   "name": "python",
   "nbconvert_exporter": "python",
   "pygments_lexer": "ipython3",
   "version": "3.12.3"
  }
 },
 "nbformat": 4,
 "nbformat_minor": 2
}
