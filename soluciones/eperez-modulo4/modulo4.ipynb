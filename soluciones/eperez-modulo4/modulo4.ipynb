{
 "cells": [
  {
   "cell_type": "markdown",
   "metadata": {},
   "source": [
    "MÓDULO 4: OPERADORES LÓGICOS 1"
   ]
  },
  {
   "cell_type": "code",
   "execution_count": 8,
   "metadata": {},
   "outputs": [
    {
     "name": "stdout",
     "output_type": "stream",
     "text": [
      "False\n"
     ]
    }
   ],
   "source": [
    "num1 = 36\n",
    "num2 = 72/2\n",
    "num3 = 48\n",
    "\n",
    "\n",
    "mi_bool= (num1 > num2) and (num1 < num3)\n",
    "\n",
    "print(mi_bool)"
   ]
  },
  {
   "cell_type": "markdown",
   "metadata": {},
   "source": [
    "MÓDULO 4: OPERADORES LÓGICOS 2"
   ]
  },
  {
   "cell_type": "code",
   "execution_count": 6,
   "metadata": {},
   "outputs": [
    {
     "name": "stdout",
     "output_type": "stream",
     "text": [
      "True\n"
     ]
    }
   ],
   "source": [
    "num1 = 36\n",
    "num2 = 72/2\n",
    "num3 = 48\n",
    "\n",
    "mi_bool= (num1 > num2) or (num1 < num3)\n",
    "\n",
    "print(mi_bool)\n"
   ]
  },
  {
   "cell_type": "markdown",
   "metadata": {},
   "source": [
    "MÓDULO 4: COMPARACIONES 2 "
   ]
  },
  {
   "cell_type": "code",
   "execution_count": 7,
   "metadata": {},
   "outputs": [
    {
     "name": "stdout",
     "output_type": "stream",
     "text": [
      "True\n"
     ]
    }
   ],
   "source": [
    "num1 = 36\n",
    "num2 = 17\n",
    "\n",
    "mi_bool= (num1 >= num2) \n",
    "\n",
    "print(mi_bool)"
   ]
  },
  {
   "cell_type": "markdown",
   "metadata": {},
   "source": [
    "MÓDULO 4: COMPARACIONES 2"
   ]
  },
  {
   "cell_type": "code",
   "execution_count": 5,
   "metadata": {},
   "outputs": [
    {
     "name": "stdout",
     "output_type": "stream",
     "text": [
      "False\n"
     ]
    }
   ],
   "source": [
    "import math \n",
    "\n",
    "num1 = math.sqrt(25)\n",
    "num2 = 5\n",
    "mi_bool= (num1 > num2)\n",
    "print(mi_bool)\n"
   ]
  },
  {
   "cell_type": "markdown",
   "metadata": {},
   "source": [
    "MÓDULO 4: PRÁCTICA FINAL"
   ]
  },
  {
   "cell_type": "code",
   "execution_count": 24,
   "metadata": {},
   "outputs": [
    {
     "name": "stdout",
     "output_type": "stream",
     "text": [
      "57\n",
      "Hola! elisa tienes ocho intentos para adivinar el número secreto\n",
      " Intento número 1.Respuesta incorrecta: el número que has elegido es menor que el número secreto\n",
      " Intento número 2.Respuesta incorrecta: el número que has elegido es menor que el número secreto\n",
      " Intento número 3.Respuesta incorrecta: el número que has elegido es menor que el número secreto\n",
      " Intento número 4.Respuesta incorrecta: el número que has elegido es menor que el número secreto\n",
      " Intento número 5.Respuesta incorrecta: el número que has elegido es menor que el número secreto\n",
      "Enhorabuena!! Has adivinado el número secreto\n"
     ]
    }
   ],
   "source": [
    "import random\n",
    "\n",
    "nombre = input(\"Ingrese su nombre\")\n",
    "\n",
    "random_num=random.randint(1, 100)\n",
    "\n",
    "print(f\"Hola! {nombre}\" + \" \" + \"tienes ocho intentos para adivinar el número secreto\")\n",
    "intentos = 1\n",
    "\n",
    "while intentos <= 8:\n",
    "    num1 = int(input(\"Ingrese un número\"))\n",
    "    if (num1 < 1) or (num1 > 100):\n",
    "        print(f\" Intento número {intentos}. Respuesta incorrecta: Los números permitidos son del 1 al 100\")\n",
    "    elif num1 < random_num:\n",
    "        print(f\" Intento número {intentos}.Respuesta incorrecta: el número que has elegido es menor que el número secreto\")\n",
    "    elif num1 > random_num:\n",
    "        print(f\" Intento número {intentos}.Respuesta incorrecta: el número que has elegido es mayor que el número secreto\")\n",
    "    elif num1 == random_num:\n",
    "        print(\"Enhorabuena!! Has adivinado el número secreto\")\n",
    "        break\n",
    "    intentos += 1\n",
    "\n",
    "if intentos == 9:\n",
    "        print(\"No quedan intentos\")\n"
   ]
  }
 ],
 "metadata": {
  "kernelspec": {
   "display_name": "Python 3",
   "language": "python",
   "name": "python3"
  },
  "language_info": {
   "codemirror_mode": {
    "name": "ipython",
    "version": 3
   },
   "file_extension": ".py",
   "mimetype": "text/x-python",
   "name": "python",
   "nbconvert_exporter": "python",
   "pygments_lexer": "ipython3",
   "version": "3.12.3"
  }
 },
 "nbformat": 4,
 "nbformat_minor": 2
}
