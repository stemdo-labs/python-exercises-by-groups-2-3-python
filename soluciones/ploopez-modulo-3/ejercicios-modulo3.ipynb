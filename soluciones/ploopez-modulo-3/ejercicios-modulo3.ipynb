{
 "cells": [
  {
   "cell_type": "code",
   "execution_count": null,
   "metadata": {},
   "outputs": [],
   "source": [
    "Booleanos"
   ]
  },
  {
   "cell_type": "markdown",
   "metadata": {},
   "source": [
    "Booleanos1"
   ]
  },
  {
   "cell_type": "code",
   "execution_count": 3,
   "metadata": {},
   "outputs": [
    {
     "name": "stdout",
     "output_type": "stream",
     "text": [
      "El resultado de la prueba es: True\n"
     ]
    }
   ],
   "source": [
    "blanco = \"blanco\"  \n",
    "prueba = bool(blanco == blanco)\n",
    "print(\"El resultado de la prueba es:\", prueba)"
   ]
  },
  {
   "cell_type": "markdown",
   "metadata": {},
   "source": [
    "Booleanos 2"
   ]
  },
  {
   "cell_type": "code",
   "execution_count": 4,
   "metadata": {},
   "outputs": [
    {
     "name": "stdout",
     "output_type": "stream",
     "text": [
      "¿Es 17834/34 mayor que 87*56? False\n"
     ]
    }
   ],
   "source": [
    "division = 17834 / 34\n",
    "multiplicacion = 87 * 56\n",
    "\n",
    "es_mayor = division > multiplicacion\n",
    "\n",
    "print(\"¿Es 17834/34 mayor que 87*56?\", es_mayor)"
   ]
  },
  {
   "cell_type": "markdown",
   "metadata": {},
   "source": [
    "Booleanos 3"
   ]
  },
  {
   "cell_type": "code",
   "execution_count": 5,
   "metadata": {},
   "outputs": [
    {
     "name": "stdout",
     "output_type": "stream",
     "text": [
      "Es igual la raiz de 25 a 5? True\n"
     ]
    }
   ],
   "source": [
    "import math \n",
    "raiz = math.sqrt(25)\n",
    "esigual= bool(raiz == 5)\n",
    "print(\"Es igual la raiz de 25 a 5?\", esigual)"
   ]
  },
  {
   "cell_type": "markdown",
   "metadata": {},
   "source": [
    "Diccionarios"
   ]
  },
  {
   "cell_type": "markdown",
   "metadata": {},
   "source": [
    "Diccionarios 1"
   ]
  },
  {
   "cell_type": "code",
   "execution_count": 6,
   "metadata": {},
   "outputs": [
    {
     "name": "stdout",
     "output_type": "stream",
     "text": [
      "{'nombre': 'karen', 'apellido': 'Jurgens', 'edad': 35, 'ocupación': 'Periodista'}\n"
     ]
    }
   ],
   "source": [
    "#los diccionarios funcionana con la formual clave: valor \n",
    "mi_dic= {\"nombre\": \"karen\", \"apellido\": \"Jurgens\", \"edad\":35, \"ocupación\":\"Periodista\"}\n",
    "print(mi_dic)"
   ]
  },
  {
   "cell_type": "markdown",
   "metadata": {},
   "source": [
    "Diccionario 3"
   ]
  },
  {
   "cell_type": "code",
   "execution_count": 7,
   "metadata": {},
   "outputs": [
    {
     "name": "stdout",
     "output_type": "stream",
     "text": [
      "{'nombre': 'karen', 'apellido': 'Jurgens', 'edad': 35, 'ocupación': 'Periodista'}\n",
      "{'nombre': 'karen', 'apellido': 'Jurgens', 'edad': 36, 'ocupación': 'Editora', 'pais': 'Alemania'}\n"
     ]
    }
   ],
   "source": [
    "mi_dic= {\"nombre\": \"karen\", \"apellido\": \"Jurgens\", \"edad\":35, \"ocupación\":\"Periodista\"}\n",
    "print(mi_dic)\n",
    "\n",
    "mi_dic[\"edad\"] = 36\n",
    "mi_dic[\"ocupación\"] = \"Editora\"\n",
    "mi_dic[\"pais\"] = \"Alemania\"\n",
    "\n",
    "print(mi_dic)"
   ]
  },
  {
   "cell_type": "markdown",
   "metadata": {},
   "source": [
    "Lista 1"
   ]
  },
  {
   "cell_type": "code",
   "execution_count": 8,
   "metadata": {},
   "outputs": [
    {
     "name": "stdout",
     "output_type": "stream",
     "text": [
      "['Carmen', 34, 'Emilia-Romana', 'Ferrari', 'Cavallino']\n"
     ]
    }
   ],
   "source": [
    "mi_lista = [\"Carmen\", 34, \"Emilia-Romana\", \"Ferrari\", \"Cavallino\", ]\n",
    "print(mi_lista)"
   ]
  },
  {
   "cell_type": "markdown",
   "metadata": {},
   "source": [
    "Lista 3"
   ]
  },
  {
   "cell_type": "code",
   "execution_count": 10,
   "metadata": {},
   "outputs": [
    {
     "name": "stdout",
     "output_type": "stream",
     "text": [
      "mango\n"
     ]
    }
   ],
   "source": [
    "listaFrutas= [\"manzana\", \"banana\", \"mango\", \"cereza\", \"sandía\"]\n",
    "eliminado = listaFrutas.pop(2) \n",
    "print(eliminado)\n"
   ]
  },
  {
   "cell_type": "markdown",
   "metadata": {},
   "source": [
    "METODOS"
   ]
  },
  {
   "cell_type": "markdown",
   "metadata": {},
   "source": [
    "Métodos Index 1"
   ]
  },
  {
   "cell_type": "code",
   "execution_count": 11,
   "metadata": {},
   "outputs": [
    {
     "name": "stdout",
     "output_type": "stream",
     "text": [
      "El quinto caracter de la palabra es: N\n"
     ]
    }
   ],
   "source": [
    "palabra = \"ordeNador\"\n",
    "caracter = palabra[4]  \n",
    "print(\"El quinto caracter de la palabra es:\", caracter)\n"
   ]
  },
  {
   "cell_type": "markdown",
   "metadata": {},
   "source": [
    "Metodos Index 2"
   ]
  },
  {
   "cell_type": "code",
   "execution_count": 12,
   "metadata": {},
   "outputs": [
    {
     "name": "stdout",
     "output_type": "stream",
     "text": [
      "El índice de la última aparición de 'práctica' es: 57\n"
     ]
    }
   ],
   "source": [
    "frase = \"En teoría, la teoría y la práctica son los mismos. En la práctica, no lo son.\"\n",
    "ultima_aparicion = frase.rfind(\"práctica\")\n",
    "print(\"El índice de la última aparición de 'práctica' es:\", ultima_aparicion)\n"
   ]
  },
  {
   "cell_type": "markdown",
   "metadata": {},
   "source": [
    "Metodo String 2"
   ]
  },
  {
   "cell_type": "code",
   "execution_count": 16,
   "metadata": {},
   "outputs": [
    {
     "name": "stdout",
     "output_type": "stream",
     "text": [
      "La legibilidad cuenta.\n"
     ]
    }
   ],
   "source": [
    "lista_palabras = [\"La\", \"legibilidad\", \"cuenta.\"]\n",
    "unionOracion = lista_palabras[0] + \" \" + lista_palabras[1] + \" \" + lista_palabras[2]\n",
    "print(unionOracion)\n"
   ]
  },
  {
   "cell_type": "markdown",
   "metadata": {},
   "source": [
    "Metodo String 3"
   ]
  },
  {
   "cell_type": "code",
   "execution_count": 17,
   "metadata": {},
   "outputs": [
    {
     "name": "stdout",
     "output_type": "stream",
     "text": [
      "Si la implementación es fácil de explicar, puede que sea una buena idea.\n"
     ]
    }
   ],
   "source": [
    "frase = \"Si la implementación es difícil de explicar, puede que sea una mala idea.\"\n",
    "frase_modificada = frase.replace(\"difícil\", \"fácil\").replace(\"mala\", \"buena\")\n",
    "print(frase_modificada)\n"
   ]
  },
  {
   "cell_type": "markdown",
   "metadata": {},
   "source": [
    "PROPIEDADES"
   ]
  },
  {
   "cell_type": "markdown",
   "metadata": {},
   "source": [
    "Propiedades 2\n"
   ]
  },
  {
   "cell_type": "code",
   "execution_count": 18,
   "metadata": {},
   "outputs": [
    {
     "name": "stdout",
     "output_type": "stream",
     "text": [
      "True\n"
     ]
    }
   ],
   "source": [
    "haiku = \"Tierra mojada, mis recuerdos de viaje entre las lluvias\"\n",
    "no_esta_agua = \"agua\" not in haiku\n",
    "print(no_esta_agua)\n"
   ]
  },
  {
   "cell_type": "markdown",
   "metadata": {},
   "source": [
    "Propiedades 3"
   ]
  },
  {
   "cell_type": "code",
   "execution_count": 20,
   "metadata": {},
   "outputs": [
    {
     "name": "stdout",
     "output_type": "stream",
     "text": [
      "23\n"
     ]
    }
   ],
   "source": [
    "palabra = \"electroencefalografista\"\n",
    "print(len(palabra))"
   ]
  },
  {
   "cell_type": "markdown",
   "metadata": {},
   "source": [
    "TUPLAS"
   ]
  },
  {
   "cell_type": "markdown",
   "metadata": {},
   "source": [
    "Tuplas 1"
   ]
  },
  {
   "cell_type": "code",
   "execution_count": 21,
   "metadata": {},
   "outputs": [
    {
     "name": "stdout",
     "output_type": "stream",
     "text": [
      "Aparece  6 veces\n"
     ]
    }
   ],
   "source": [
    "\n",
    "mi_tupla = (1, 2, 3, 2, 3, 1, 3, 2, 3, 3, 3, 1, 3, 2, 2, 1, 3, 2)\n",
    "aparicionDos = mi_tupla.count(2)\n",
    "\n",
    "print(f\"Aparece  {aparicionDos} veces\")\n"
   ]
  },
  {
   "cell_type": "markdown",
   "metadata": {},
   "source": [
    "Tuplas 3"
   ]
  },
  {
   "cell_type": "code",
   "execution_count": null,
   "metadata": {},
   "outputs": [],
   "source": [
    "mi_tupla = (1, 2, 3, 4)\n",
    "a, b, c, d = mi_tupla\n",
    "print(\"Valor de a:\", a)\n",
    "print(\"Valor de b:\", b)\n",
    "print(\"Valor de c:\", c)\n",
    "print(\"Valor de d:\", d)\n"
   ]
  },
  {
   "cell_type": "markdown",
   "metadata": {},
   "source": [
    "VARIADO"
   ]
  },
  {
   "cell_type": "markdown",
   "metadata": {},
   "source": [
    "Set 2"
   ]
  },
  {
   "cell_type": "code",
   "execution_count": 22,
   "metadata": {},
   "outputs": [
    {
     "name": "stdout",
     "output_type": "stream",
     "text": [
      "Eliminado Axel\n"
     ]
    }
   ],
   "source": [
    "sorteo = {\"Camila\", \"Margarita\", \"Axel\", \"Jorge\", \"Miguel\", \"Mónica\"}\n",
    "\n",
    "eliminado = sorteo.pop()\n",
    "\n",
    "print(f\"Eliminado {eliminado}\")"
   ]
  },
  {
   "cell_type": "markdown",
   "metadata": {},
   "source": [
    "Set 3"
   ]
  },
  {
   "cell_type": "code",
   "execution_count": 23,
   "metadata": {},
   "outputs": [
    {
     "name": "stdout",
     "output_type": "stream",
     "text": [
      "{'Axel', 'Margarita', 'Mónica', 'Jorge', 'Camila', 'Miguel', 'Damián'}\n"
     ]
    }
   ],
   "source": [
    "sorteo = {\"Camila\", \"Margarita\", \"Axel\", \"Jorge\", \"Miguel\", \"Mónica\"}\n",
    "sorteo.add(\"Damián\")\n",
    "print(sorteo)"
   ]
  },
  {
   "cell_type": "markdown",
   "metadata": {},
   "source": [
    "Substring 2"
   ]
  },
  {
   "cell_type": "code",
   "execution_count": 24,
   "metadata": {},
   "outputs": [
    {
     "name": "stdout",
     "output_type": "stream",
     "text": [
      "Resultado: neeuoed eoualz rnvta\n"
     ]
    }
   ],
   "source": [
    "frase = \"Nunca confíes en un ordenador que no puedas lanzar por una ventana\"\n",
    "resultado = frase[8::3]\n",
    "print(\"Resultado:\", resultado)\n"
   ]
  },
  {
   "cell_type": "markdown",
   "metadata": {},
   "source": [
    "Substring 3"
   ]
  },
  {
   "cell_type": "code",
   "execution_count": 25,
   "metadata": {},
   "outputs": [
    {
     "name": "stdout",
     "output_type": "stream",
     "text": [
      "Resultado: azevrec ut nebeb es on y odot nadreucer ol ,netucsid oN .serodanedro noc rajabart laineg sE\n"
     ]
    }
   ],
   "source": [
    "frase = \"Es genial trabajar con ordenadores. No discuten, lo recuerdan todo y no se beben tu cerveza\"\n",
    "resultado = frase[::-1]\n",
    "print(\"Resultado:\", resultado)\n"
   ]
  }
 ],
 "metadata": {
  "kernelspec": {
   "display_name": "Python 3",
   "language": "python",
   "name": "python3"
  },
  "language_info": {
   "codemirror_mode": {
    "name": "ipython",
    "version": 3
   },
   "file_extension": ".py",
   "mimetype": "text/x-python",
   "name": "python",
   "nbconvert_exporter": "python",
   "pygments_lexer": "ipython3",
   "version": "3.12.3"
  }
 },
 "nbformat": 4,
 "nbformat_minor": 2
}
