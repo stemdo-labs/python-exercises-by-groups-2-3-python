{
 "cells": [
  {
   "cell_type": "markdown",
   "metadata": {},
   "source": [
    "MÓDULO 6: ARGUMENTOS 1"
   ]
  },
  {
   "cell_type": "code",
   "execution_count": 3,
   "metadata": {},
   "outputs": [
    {
     "name": "stdout",
     "output_type": "stream",
     "text": [
      "blanco\n",
      "4\n"
     ]
    }
   ],
   "source": [
    "class Casa:\n",
    "    def __init__(self,color, cantidad_pisos):\n",
    "        self.color = color\n",
    "        self.cantidad_pisos = cantidad_pisos\n",
    "\n",
    "casa_blanca = Casa('blanco', 4)\n",
    "\n",
    "print(casa_blanca.color)\n",
    "print(casa_blanca.cantidad_pisos)"
   ]
  },
  {
   "cell_type": "markdown",
   "metadata": {},
   "source": [
    "MÓDULO 6: ARGUMENTOS 2 "
   ]
  },
  {
   "cell_type": "code",
   "execution_count": 5,
   "metadata": {},
   "outputs": [
    {
     "name": "stdout",
     "output_type": "stream",
     "text": [
      "6\n",
      "rojo\n"
     ]
    }
   ],
   "source": [
    "class Cubo:\n",
    "\n",
    "    caras = 6\n",
    "\n",
    "    def __init__(self, color):\n",
    "        self.color = color\n",
    "\n",
    "cubo_rojo = Cubo('rojo')\n",
    "\n",
    "print(cubo_rojo.caras)\n",
    "print(cubo_rojo.color)\n",
    "\n",
    "\n"
   ]
  },
  {
   "cell_type": "markdown",
   "metadata": {},
   "source": [
    "MÓDULO 6: CLASES 1 "
   ]
  },
  {
   "cell_type": "code",
   "execution_count": null,
   "metadata": {},
   "outputs": [],
   "source": [
    "class PlataformaStreaming:\n",
    "    pass\n",
    "\n",
    " \n",
    "netflix = PlataformaStreaming()\n",
    "hbo_max = PlataformaStreaming()\n",
    "amazon_prime_video = PlataformaStreaming()"
   ]
  },
  {
   "cell_type": "markdown",
   "metadata": {},
   "source": [
    "MÓDULO 6: MÉTODOS 1 \n"
   ]
  },
  {
   "cell_type": "code",
   "execution_count": 16,
   "metadata": {},
   "outputs": [
    {
     "name": "stdout",
     "output_type": "stream",
     "text": [
      "Inhalar... Exhalar\n"
     ]
    }
   ],
   "source": [
    "class Mascota:\n",
    "    @staticmethod\n",
    "    def respirar():\n",
    "        print(\"Inhalar... Exhalar\")\n",
    "\n",
    "perro = Mascota()\n",
    "\n",
    "perro.respirar()"
   ]
  },
  {
   "cell_type": "markdown",
   "metadata": {},
   "source": [
    "MÓDULO 6: MÉTODOS 2 "
   ]
  },
  {
   "cell_type": "code",
   "execution_count": 13,
   "metadata": {},
   "outputs": [
    {
     "name": "stdout",
     "output_type": "stream",
     "text": [
      "True\n"
     ]
    }
   ],
   "source": [
    "class Jugador:\n",
    "    vivo = False\n",
    "\n",
    "    @classmethod\n",
    "    def revivir(cls):\n",
    "        cls.vivo = True\n",
    "\n",
    "Jugador.revivir()\n",
    "print(Jugador.vivo)"
   ]
  },
  {
   "cell_type": "markdown",
   "metadata": {},
   "source": [
    "MÓDULO 6: HERENCIA 1 Crea una clase llamada Persona, que tenga los siguientes atributos de instancia: nombre, edad. Crea otra clase, Alumno, que herede de la primera estos atributos."
   ]
  },
  {
   "cell_type": "code",
   "execution_count": 18,
   "metadata": {},
   "outputs": [
    {
     "name": "stdout",
     "output_type": "stream",
     "text": [
      "29\n",
      "Elisa\n"
     ]
    }
   ],
   "source": [
    "class Persona:\n",
    "      def __init__(self,nombre, edad):\n",
    "        self.normbre = nombre\n",
    "        self.edad = edad\n",
    "    \n",
    "class Alumno(Persona):\n",
    "    pass\n",
    "\n",
    "alumno_1= Alumno('Elisa', 29)\n",
    "print(alumno_1.edad)\n",
    "print(alumno_1.normbre)\n",
    "\n",
    "\n"
   ]
  },
  {
   "cell_type": "markdown",
   "metadata": {},
   "source": [
    "MÓDULO 6: POLIMORFISMO 2"
   ]
  },
  {
   "cell_type": "code",
   "execution_count": 19,
   "metadata": {},
   "outputs": [
    {
     "name": "stdout",
     "output_type": "stream",
     "text": [
      "Flechas\n",
      "Magia\n",
      "Katana\n"
     ]
    }
   ],
   "source": [
    "class Arquero:\n",
    "    def atacar(self):\n",
    "        print(\"Flechas\")\n",
    "\n",
    "class Mago:\n",
    "    def atacar(self):\n",
    "        print(\"Magia\")\n",
    "\n",
    "class Samurai:\n",
    "    def atacar(self):\n",
    "        print(\"Katana\")\n",
    "\n",
    "arquero = Arquero()\n",
    "mago = Mago()\n",
    "samurai = Samurai()\n",
    "\n",
    "personajes = [arquero, mago, samurai]\n",
    "\n",
    "for personaje in personajes:\n",
    "    personaje.atacar()\n",
    "\n"
   ]
  }
 ],
 "metadata": {
  "kernelspec": {
   "display_name": "Python 3",
   "language": "python",
   "name": "python3"
  },
  "language_info": {
   "codemirror_mode": {
    "name": "ipython",
    "version": 3
   },
   "file_extension": ".py",
   "mimetype": "text/x-python",
   "name": "python",
   "nbconvert_exporter": "python",
   "pygments_lexer": "ipython3",
   "version": "3.12.3"
  }
 },
 "nbformat": 4,
 "nbformat_minor": 2
}
