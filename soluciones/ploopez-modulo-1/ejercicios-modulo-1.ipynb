{
 "cells": [
  {
   "cell_type": "markdown",
   "metadata": {},
   "source": [
    "Print"
   ]
  },
  {
   "cell_type": "code",
   "execution_count": null,
   "metadata": {},
   "outputs": [],
   "source": [
    "print(\"Me encanta estudiar\" + \" \" + \"Python\")"
   ]
  },
  {
   "cell_type": "markdown",
   "metadata": {},
   "source": [
    "String1"
   ]
  },
  {
   "cell_type": "code",
   "execution_count": null,
   "metadata": {},
   "outputs": [],
   "source": [
    "print(\"Estudiar con \" + \"'Stemdo'\" + \" es super divertido\")"
   ]
  },
  {
   "cell_type": "markdown",
   "metadata": {},
   "source": [
    "String2"
   ]
  },
  {
   "cell_type": "code",
   "execution_count": 22,
   "metadata": {},
   "outputs": [
    {
     "name": "stdout",
     "output_type": "stream",
     "text": [
      "A B C D E F G H I\n"
     ]
    }
   ],
   "source": [
    "txt = 'A\\tB\\tC\\tD\\tE\\tF\\tG\\tH\\tI'\n",
    "print (txt.expandtabs(1))\n",
    "\n",
    "\n"
   ]
  },
  {
   "cell_type": "markdown",
   "metadata": {},
   "source": [
    "String3"
   ]
  },
  {
   "cell_type": "code",
   "execution_count": 23,
   "metadata": {},
   "outputs": [
    {
     "name": "stdout",
     "output_type": "stream",
     "text": [
      "Barra Normal: /\n",
      "Barra Invertida: \\\n"
     ]
    }
   ],
   "source": [
    "print(\"Barra Normal: \" + \"/\")\n",
    "print(\"Barra Invertida: \" + \"\\\\\")"
   ]
  },
  {
   "cell_type": "markdown",
   "metadata": {},
   "source": [
    "PracticaFinal"
   ]
  },
  {
   "cell_type": "code",
   "execution_count": 24,
   "metadata": {},
   "outputs": [
    {
     "name": "stdout",
     "output_type": "stream",
     "text": [
      "EL nombre de la cerveza es : estrellagalicia\n"
     ]
    }
   ],
   "source": [
    "p1 = input(\"Introduce la primera palabra: \")\n",
    "p2 = input(\"Introduce la segunda palabra: \")\n",
    "\n",
    "cerveza = p1 + p2\n",
    "\n",
    "print(f\"EL nombre de la cerveza es : {cerveza}\")"
   ]
  }
 ],
 "metadata": {
  "kernelspec": {
   "display_name": "Python 3",
   "language": "python",
   "name": "python3"
  },
  "language_info": {
   "codemirror_mode": {
    "name": "ipython",
    "version": 3
   },
   "file_extension": ".py",
   "mimetype": "text/x-python",
   "name": "python",
   "nbconvert_exporter": "python",
   "pygments_lexer": "ipython3",
   "version": "3.12.3"
  }
 },
 "nbformat": 4,
 "nbformat_minor": 2
}
