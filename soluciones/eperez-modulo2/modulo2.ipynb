{
 "cells": [
  {
   "cell_type": "markdown",
   "metadata": {},
   "source": [
    "MÓDULO 2: CONVERSIÓN 1"
   ]
  },
  {
   "cell_type": "code",
   "execution_count": null,
   "metadata": {},
   "outputs": [],
   "source": [
    "num1= 20.4\n",
    "print(num1)\n",
    "print(type(num1))\n",
    "num1 = int(num1)\n",
    "print(num1)\n",
    "print(type(num1))"
   ]
  },
  {
   "cell_type": "markdown",
   "metadata": {},
   "source": [
    "MÓDULO 2: FLOAT"
   ]
  },
  {
   "cell_type": "code",
   "execution_count": null,
   "metadata": {},
   "outputs": [],
   "source": [
    "num_decimal=20.1\n",
    "print(num_decimal)"
   ]
  },
  {
   "cell_type": "markdown",
   "metadata": {},
   "source": [
    "MÓDULO 2: REDONDEO"
   ]
  },
  {
   "cell_type": "code",
   "execution_count": null,
   "metadata": {},
   "outputs": [],
   "source": [
    "numero=10\n",
    "numero2=3\n",
    "division=numero / numero2\n",
    "print(division)\n",
    "print(round(division, 2))\n",
    "print(round(division))\n",
    "print(type(division))\n"
   ]
  },
  {
   "cell_type": "markdown",
   "metadata": {},
   "source": [
    "MÓDULO 2: PRÁCTICA FINAL"
   ]
  },
  {
   "cell_type": "code",
   "execution_count": null,
   "metadata": {},
   "outputs": [],
   "source": [
    "puntos_anteriores = 10\n",
    "puntos_nuevos = 3\n",
    "puntos_totales =  puntos_anteriores + puntos_nuevos\n",
    "\n",
    "print(\"Has ganado {} puntos! En total, acumulas {} puntos\".format(puntos_nuevos,puntos_totales))\n",
    "print(f\"Has ganado {puntos_nuevos} puntos! En total, acumulas {puntos_totales} puntos\")"
   ]
  }
 ],
 "metadata": {
  "language_info": {
   "name": "python"
  }
 },
 "nbformat": 4,
 "nbformat_minor": 2
}
