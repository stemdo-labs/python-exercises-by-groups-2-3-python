{
 "cells": [
  {
   "cell_type": "markdown",
   "metadata": {},
   "source": [
    "MÓDULO 5: FUNCIONES "
   ]
  },
  {
   "cell_type": "code",
   "execution_count": 5,
   "metadata": {},
   "outputs": [
    {
     "name": "stdout",
     "output_type": "stream",
     "text": [
      "64.0\n"
     ]
    }
   ],
   "source": [
    "import math\n",
    "\n",
    "def cuadrado (num):\n",
    "    print(math.pow(num, 2))\n",
    "\n",
    "un_numero = 8\n",
    "\n",
    "cuadrado(un_numero)\n",
    "\n"
   ]
  },
  {
   "cell_type": "markdown",
   "metadata": {},
   "source": [
    "MÓDULO 5: ARGUMENTOS 1"
   ]
  },
  {
   "cell_type": "code",
   "execution_count": 8,
   "metadata": {},
   "outputs": [
    {
     "data": {
      "text/plain": [
       "14.0"
      ]
     },
     "execution_count": 8,
     "metadata": {},
     "output_type": "execute_result"
    }
   ],
   "source": [
    "import math\n",
    "\n",
    "def suma_cuadrados (*args):\n",
    "    total = 0\n",
    "    for arg in args:\n",
    "        arg = math.pow(arg, 2)\n",
    "        total += arg\n",
    "    return total\n",
    "\n",
    "suma_cuadrados(1, 2, 3)\n"
   ]
  },
  {
   "cell_type": "markdown",
   "metadata": {},
   "source": [
    "MÓDULO 5: ARGUMENTOS 2 "
   ]
  },
  {
   "cell_type": "code",
   "execution_count": 14,
   "metadata": {},
   "outputs": [
    {
     "data": {
      "text/plain": [
       "15"
      ]
     },
     "execution_count": 14,
     "metadata": {},
     "output_type": "execute_result"
    }
   ],
   "source": [
    "def suma_absolutos(*args):\n",
    "    total = 0\n",
    "    for arg in args:\n",
    "        total += abs(arg)\n",
    "    return total\n",
    "\n",
    "suma_absolutos(-5, 10)\n"
   ]
  },
  {
   "cell_type": "markdown",
   "metadata": {},
   "source": [
    "MÓDULO 5: ARGUMENTOS 3 "
   ]
  },
  {
   "cell_type": "code",
   "execution_count": 15,
   "metadata": {},
   "outputs": [
    {
     "name": "stdout",
     "output_type": "stream",
     "text": [
      "Elisa, la suma de tus números es 6\n"
     ]
    }
   ],
   "source": [
    "def numeros_persona (nombre, *args):\n",
    "    suma_numeros = 0\n",
    "    for arg in args:\n",
    "        suma_numeros += arg\n",
    "    return print(f\"{nombre}, la suma de tus números es {suma_numeros}\")\n",
    "\n",
    "\n",
    "numeros_persona('Elisa', 1,2,3)"
   ]
  }
 ],
 "metadata": {
  "kernelspec": {
   "display_name": "Python 3",
   "language": "python",
   "name": "python3"
  },
  "language_info": {
   "codemirror_mode": {
    "name": "ipython",
    "version": 3
   },
   "file_extension": ".py",
   "mimetype": "text/x-python",
   "name": "python",
   "nbconvert_exporter": "python",
   "pygments_lexer": "ipython3",
   "version": "3.12.3"
  }
 },
 "nbformat": 4,
 "nbformat_minor": 2
}
