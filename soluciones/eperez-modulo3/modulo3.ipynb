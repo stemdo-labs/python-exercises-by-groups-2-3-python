{
 "cells": [
  {
   "cell_type": "markdown",
   "metadata": {},
   "source": [
    "MÓDULO 3: PROPIEDADES STRING 2 "
   ]
  },
  {
   "cell_type": "code",
   "execution_count": 23,
   "metadata": {},
   "outputs": [
    {
     "name": "stdout",
     "output_type": "stream",
     "text": [
      "-1\n"
     ]
    }
   ],
   "source": [
    "kaiku = \"Tierra mojada, mis recuerdos de viaje entre las lluvias\"\n",
    "palabra = kaiku.find(\"agua\")\n",
    "print(palabra)"
   ]
  },
  {
   "cell_type": "markdown",
   "metadata": {},
   "source": [
    "MÓDULO 3: PROPIEDADES STRING 3 \n"
   ]
  },
  {
   "cell_type": "code",
   "execution_count": 24,
   "metadata": {},
   "outputs": [
    {
     "name": "stdout",
     "output_type": "stream",
     "text": [
      "23\n"
     ]
    }
   ],
   "source": [
    "texto = \"electroencefalografista\"\n",
    "longitud=len(texto)\n",
    "\n",
    "print(longitud)\n"
   ]
  },
  {
   "cell_type": "markdown",
   "metadata": {},
   "source": [
    "MÓDULO 3: MÉTODO ÍNDEX 3 "
   ]
  },
  {
   "cell_type": "code",
   "execution_count": 25,
   "metadata": {},
   "outputs": [
    {
     "name": "stdout",
     "output_type": "stream",
     "text": [
      "57\n"
     ]
    }
   ],
   "source": [
    "frase = \"En teoría, la teoría y la práctica son los mismos. En la práctica, no lo son.\"\n",
    "indice = frase.rindex(\"práctica\")\n",
    "print(indice)"
   ]
  },
  {
   "cell_type": "markdown",
   "metadata": {},
   "source": [
    "MÓDULO 3: MÉTODO STRING 2 "
   ]
  },
  {
   "cell_type": "code",
   "execution_count": 26,
   "metadata": {},
   "outputs": [
    {
     "name": "stdout",
     "output_type": "stream",
     "text": [
      "La legibilidad cuenta.\n"
     ]
    }
   ],
   "source": [
    "lista_palabras = [\"La\",\"legibilidad\",\"cuenta.\"]\n",
    "palabras_juntas = \" \".join(lista_palabras)\n",
    "print(palabras_juntas)"
   ]
  },
  {
   "cell_type": "markdown",
   "metadata": {},
   "source": [
    "MÓDULO 3: MÉTODO STRING 3 "
   ]
  },
  {
   "cell_type": "code",
   "execution_count": 27,
   "metadata": {},
   "outputs": [
    {
     "name": "stdout",
     "output_type": "stream",
     "text": [
      "Si la implementación es difícil de explicar, puede que sea una buena idea.\n"
     ]
    }
   ],
   "source": [
    "frase = \"Si la implementación es difícil de explicar, puede que sea una mala idea.\"\n",
    "reemplazar1 = frase.replace(\"difícil\", \"fácil\")\n",
    "reemplazar1 = frase.replace(\"mala\", \"buena\")\n",
    "print(reemplazar1)"
   ]
  },
  {
   "cell_type": "markdown",
   "metadata": {},
   "source": [
    "MÓDULO 3: LISTAS 2"
   ]
  },
  {
   "cell_type": "code",
   "execution_count": 28,
   "metadata": {},
   "outputs": [
    {
     "name": "stdout",
     "output_type": "stream",
     "text": [
      "['avión', 'auto', 'barco', 'bicicleta', 'motocicleta']\n"
     ]
    }
   ],
   "source": [
    "medios_transporte = [\"avión\", \"auto\", \"barco\", \"bicicleta\"]\n",
    "medios_transporte.append(\"motocicleta\")\n",
    "print(medios_transporte)"
   ]
  },
  {
   "cell_type": "markdown",
   "metadata": {},
   "source": [
    "MÓDULO 3: LISTAS 3"
   ]
  },
  {
   "cell_type": "code",
   "execution_count": 29,
   "metadata": {},
   "outputs": [
    {
     "name": "stdout",
     "output_type": "stream",
     "text": [
      "['manzana', 'banana', 'cereza', 'sandía']\n",
      "mango\n"
     ]
    }
   ],
   "source": [
    "frutas = [\"manzana\", \"banana\", \"mango\", \"cereza\", \"sandía\"]\n",
    "eliminado = frutas.pop(2)\n",
    "print(frutas)\n",
    "print(eliminado)\n"
   ]
  },
  {
   "cell_type": "markdown",
   "metadata": {},
   "source": [
    "MÓDULO 3: DICCIONARIOS 1"
   ]
  },
  {
   "cell_type": "code",
   "execution_count": 30,
   "metadata": {},
   "outputs": [
    {
     "name": "stdout",
     "output_type": "stream",
     "text": [
      "<class 'dict'>\n"
     ]
    }
   ],
   "source": [
    "mi_dic = {'nombre': 'Karen', 'apellido': 'Jurgens', 'edad': 35, 'ocupacion':'periodista'}\n",
    "print(type(mi_dic))"
   ]
  },
  {
   "cell_type": "markdown",
   "metadata": {},
   "source": []
  },
  {
   "cell_type": "markdown",
   "metadata": {},
   "source": [
    "MÓDULO 3: DICCIONARIOS 3 "
   ]
  },
  {
   "cell_type": "code",
   "execution_count": 11,
   "metadata": {},
   "outputs": [
    {
     "name": "stdout",
     "output_type": "stream",
     "text": [
      "{'nombre': 'Karen', 'apellido': 'Jurgens', 'edad': 36, 'ocupacion': 'editora', 'pais': 'Colombia'}\n"
     ]
    }
   ],
   "source": [
    "mi_dic = {'nombre': 'Karen', 'apellido': 'Jurgens', 'edad': 35, 'ocupacion':'periodista'}\n",
    "mi_dic['pais'] = 'Colombia'\n",
    "mi_dic['edad'] = 36\n",
    "mi_dic['ocupacion'] = 'editora'\n",
    "print(mi_dic)"
   ]
  },
  {
   "cell_type": "markdown",
   "metadata": {},
   "source": [
    "MÓDULO 3: TUPLAS 2 "
   ]
  },
  {
   "cell_type": "code",
   "execution_count": 12,
   "metadata": {},
   "outputs": [
    {
     "name": "stdout",
     "output_type": "stream",
     "text": [
      "<class 'tuple'>\n",
      "<class 'list'>\n"
     ]
    }
   ],
   "source": [
    "mi_tupla = (1, 2, 3, 2, 3, 1, 3, 2)\n",
    "mi_lista = list(mi_tupla)\n",
    "print(type(mi_tupla))\n",
    "print(type(mi_lista))"
   ]
  },
  {
   "cell_type": "markdown",
   "metadata": {},
   "source": [
    "MÓDULO 3: "
   ]
  },
  {
   "cell_type": "code",
   "execution_count": 14,
   "metadata": {},
   "outputs": [
    {
     "name": "stdout",
     "output_type": "stream",
     "text": [
      "1 2 3 4\n"
     ]
    }
   ],
   "source": [
    "mi_tupla = (1, 2, 3, 4)\n",
    "x, y, z, w = mi_tupla\n",
    "print(x, y, z, w)"
   ]
  },
  {
   "cell_type": "markdown",
   "metadata": {},
   "source": [
    "MÓDULO 3: BOOLEANOS 2 "
   ]
  },
  {
   "cell_type": "code",
   "execution_count": 17,
   "metadata": {},
   "outputs": [
    {
     "name": "stdout",
     "output_type": "stream",
     "text": [
      "524.5294117647059 4872\n",
      "False\n"
     ]
    }
   ],
   "source": [
    "numero1 = 17834/34\n",
    "numero2 = 87 * 56\n",
    "numero = (numero1 > numero2)\n",
    "print(numero1, numero2)\n",
    "print(numero)"
   ]
  },
  {
   "cell_type": "markdown",
   "metadata": {},
   "source": [
    "MÓDULO 3: SET 2"
   ]
  },
  {
   "cell_type": "code",
   "execution_count": 18,
   "metadata": {},
   "outputs": [
    {
     "name": "stdout",
     "output_type": "stream",
     "text": [
      "{'Camila', 'Margarita', 'Jorge', 'Axel', 'Mónica'}\n"
     ]
    }
   ],
   "source": [
    "sorteo = {\"Camila\", \"Margarita\", \"Axel\", \"Jorge\", \"Miguel\", \"Mónica\"}\n",
    "sorteo.pop()\n",
    "print(sorteo)\n"
   ]
  },
  {
   "cell_type": "markdown",
   "metadata": {},
   "source": [
    "MÓDULO 3: SET 3"
   ]
  },
  {
   "cell_type": "code",
   "execution_count": 19,
   "metadata": {},
   "outputs": [
    {
     "name": "stdout",
     "output_type": "stream",
     "text": [
      "{'Miguel', 'Camila', 'Margarita', 'Jorge', 'Damián', 'Axel', 'Mónica'}\n"
     ]
    }
   ],
   "source": [
    "sorteo = {\"Camila\", \"Margarita\", \"Axel\", \"Jorge\", \"Miguel\", \"Mónica\"}\n",
    "sorteo.add(\"Damián\")\n",
    "print(sorteo)"
   ]
  },
  {
   "cell_type": "markdown",
   "metadata": {},
   "source": [
    "MÓDULO 4: SUBSTRINGS 2 "
   ]
  },
  {
   "cell_type": "code",
   "execution_count": 21,
   "metadata": {},
   "outputs": [
    {
     "name": "stdout",
     "output_type": "stream",
     "text": [
      "neeuoed eoualz rnvta\n"
     ]
    }
   ],
   "source": [
    "texto = \"Nunca confíes en un ordenador que no puedas lanzar por una ventana\"\n",
    "resultado = texto[8::3]\n",
    "print(resultado)"
   ]
  },
  {
   "cell_type": "markdown",
   "metadata": {},
   "source": [
    "MÓDULO 4: SUBSTRINGS 3 "
   ]
  },
  {
   "cell_type": "code",
   "execution_count": 22,
   "metadata": {},
   "outputs": [
    {
     "name": "stdout",
     "output_type": "stream",
     "text": [
      "azevrec ut nebeb es on y odot nadreucer ol ,netucsid oN .serodanedro noc rajabart laineg sE\n"
     ]
    }
   ],
   "source": [
    "frase = \"Es genial trabajar con ordenadores. No discuten, lo recuerdan todo y no se beben tu cerveza\"\n",
    "resultado = frase[::-1]\n",
    "print(resultado)"
   ]
  },
  {
   "cell_type": "markdown",
   "metadata": {},
   "source": [
    "MÓDULO 3: PRÁCTICA FINAL"
   ]
  },
  {
   "cell_type": "code",
   "execution_count": 31,
   "metadata": {},
   "outputs": [
    {
     "name": "stdout",
     "output_type": "stream",
     "text": [
      "El texto tiene 4 palabras\n",
      "La primera letra del texto es  h\n",
      "La última letra del texto es  n\n",
      "El texto en orden invertido es: python tal que hola\n",
      "La palabra 'python' NO está presente en el texto\n",
      "La letra a aparece: 2 veces\n",
      "La letra b aparece: 0 veces\n",
      "La letra c aparece: 0 veces\n"
     ]
    }
   ],
   "source": [
    "texto = input(\"Ingrese un texto\")\n",
    "\n",
    "#Pasa el texto a minúsculas\n",
    "texto = texto.lower()\n",
    "letras= input(\"Ingrese tres letras separadas por espacio\")\n",
    "\n",
    "#separa las palabras por espacios\n",
    "palabras = texto.split(\" \")\n",
    "print(\"El texto tiene\" + \" \" + str(len(palabras)) + \" \" + \"palabras\")\n",
    "\n",
    "#Saca la primera y última letra con los índices \n",
    "print(\"La primera letra del texto es \" + \" \" + texto[0])\n",
    "print(\"La última letra del texto es \" + \" \" + texto[-1])\n",
    "\n",
    "#Revierte el orden de la lista y une los elementos separados por un espacio\n",
    "palabras.reverse()\n",
    "palabras_reverse= \" \".join(palabras)\n",
    "print(\"El texto en orden invertido es:\" + \" \" + palabras_reverse)\n",
    "\n",
    "#Busca la palabra python\n",
    "python_presente = texto.find(\"python\")\n",
    "if python_presente == 0:\n",
    "    print(\"La palabra 'python' SÍ está presente en el texto\")\n",
    "else:\n",
    "    print(\"La palabra 'python' NO está presente en el texto\")\n",
    "\n",
    "#Pasa las letras a minúscula\n",
    "letras = letras.lower()\n",
    "\n",
    "#separa las 3 letras por espacios\n",
    "letras = letras.split(\" \")\n",
    "\n",
    "#almacena cada letra en una variable\n",
    "letra1 = letras[0]\n",
    "letra2 = letras[1]\n",
    "letra3 = letras[2]\n",
    "\n",
    "\n",
    "print(f\"La letra {letra1} aparece: \" + str(texto.count(letra1)) + \" \" + \"veces\")\n",
    "print(f\"La letra {letra2} aparece: \" + str(texto.count(letra2)) + \" \" + \"veces\")\n",
    "print(f\"La letra {letra3} aparece: \" + str(texto.count(letra3)) + \" \" + \"veces\")\n",
    "\n"
   ]
  }
 ],
 "metadata": {
  "kernelspec": {
   "display_name": "Python 3",
   "language": "python",
   "name": "python3"
  },
  "language_info": {
   "codemirror_mode": {
    "name": "ipython",
    "version": 3
   },
   "file_extension": ".py",
   "mimetype": "text/x-python",
   "name": "python",
   "nbconvert_exporter": "python",
   "pygments_lexer": "ipython3",
   "version": "3.12.3"
  }
 },
 "nbformat": 4,
 "nbformat_minor": 2
}
